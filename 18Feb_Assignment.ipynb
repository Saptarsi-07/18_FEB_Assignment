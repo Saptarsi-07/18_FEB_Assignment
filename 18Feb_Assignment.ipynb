{
 "cells": [
  {
   "cell_type": "code",
   "execution_count": 1,
   "id": "c421d53d-e5fa-430f-be0f-3b1f8c8ffb4c",
   "metadata": {},
   "outputs": [],
   "source": [
    "## Q1) API stands for Application Program Interface, which allows different software applications to communicate among\n",
    "#      themselves through certain protocols.\n",
    "#      Zomato and Swiggy uses Google Maps API to find the delivery addresses."
   ]
  },
  {
   "cell_type": "code",
   "execution_count": 1,
   "id": "6ef5c2a2-e5bc-4345-b5a3-978e77178d1a",
   "metadata": {},
   "outputs": [],
   "source": [
    "## Q2) Advantages of API:\n",
    "#     i)API allows for efficient data exchange between different software systems.\n",
    "#    ii)API enables developers to create scalable applications.\n",
    "#   iii)API provides a common ground for data exchange \n",
    "\n",
    "#     Disadvantages of API:\n",
    "#     i)APIs rely on third-party services,which can be a risk if the services are unreliable or unavailable.\n",
    "#    ii)API integrations can impact application performance"
   ]
  },
  {
   "cell_type": "code",
   "execution_count": 2,
   "id": "82b831bb-6921-46f4-9fcc-36e2ec6a68a0",
   "metadata": {},
   "outputs": [],
   "source": [
    "## Q3) A Web-API  basically mediates a communication between a client and the server through the Internet using various protocols\n",
    "#      so as to exchange data between the client and the server.\n",
    "#      The main diffrence between a Web-API and an API is that a Web-API functions over the Internet  whereas an API can be the interface between \n",
    "#      different applications in the same system. For example Banking Apps-APIs(Web-API) work between your device and remote bank server with the\n",
    "#      help of Internet.\n",
    "#      The OS-API communicates to various appplication on the device only, without the Internet."
   ]
  },
  {
   "cell_type": "code",
   "execution_count": 3,
   "id": "f18108d9-23ee-4009-9d3d-174703c92b2c",
   "metadata": {},
   "outputs": [],
   "source": [
    "## Q4) REST stands for REpresentational State Transfer which is an architecture used in Web-API.It runs through \n",
    "#      Internet's HyperText Transfer Protocol(HTTP).\n",
    "#      SOAP stands for Simple Object Access Protocol which is an XML-based architecture used in distributed application environments.It supports\n",
    "#      SMTP protocol.\n",
    "#      Limitations of SOAP: It can only transfer messages as XML files and requires more bandwidth."
   ]
  },
  {
   "cell_type": "code",
   "execution_count": null,
   "id": "5ebe36f8-cdd5-44e7-a0b9-4907f1209679",
   "metadata": {},
   "outputs": [],
   "source": [
    "## Q5) REST requires less bandwidth as compared to SOAP.\n",
    "#      REST can work on HTML,JSON and plain text file while SOAP supports XML files.\n",
    "#      SOAP can use SMTP,FTP and HTTP but REST transfers only through HTTP."
   ]
  }
 ],
 "metadata": {
  "kernelspec": {
   "display_name": "Python 3 (ipykernel)",
   "language": "python",
   "name": "python3"
  },
  "language_info": {
   "codemirror_mode": {
    "name": "ipython",
    "version": 3
   },
   "file_extension": ".py",
   "mimetype": "text/x-python",
   "name": "python",
   "nbconvert_exporter": "python",
   "pygments_lexer": "ipython3",
   "version": "3.10.8"
  }
 },
 "nbformat": 4,
 "nbformat_minor": 5
}
